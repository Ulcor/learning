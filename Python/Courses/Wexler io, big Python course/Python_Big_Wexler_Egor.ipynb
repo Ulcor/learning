{
  "nbformat": 4,
  "nbformat_minor": 0,
  "metadata": {
    "colab": {
      "provenance": [],
      "collapsed_sections": [
        "xXlJ4QmzSrd6"
      ],
      "toc_visible": true
    },
    "kernelspec": {
      "name": "python3",
      "display_name": "Python 3"
    },
    "language_info": {
      "name": "python"
    }
  },
  "cells": [
    {
      "cell_type": "markdown",
      "source": [
        "# Оглавление\n",
        "1. Введение в курс\n",
        "   - База\n",
        "   - Quality metrics\n",
        "2. Модуль 2\n",
        "   - Типы данных"
      ],
      "metadata": {
        "id": "KWNgIodcQDMp"
      }
    },
    {
      "cell_type": "markdown",
      "source": [
        "Типы данных"
      ],
      "metadata": {
        "id": "OjUVLzzoP_3X"
      }
    },
    {
      "cell_type": "markdown",
      "source": [
        "## 1. Введение в курс"
      ],
      "metadata": {
        "id": "nrAAdHilWOp7"
      }
    },
    {
      "cell_type": "markdown",
      "source": [
        "### База"
      ],
      "metadata": {
        "id": "KUy_X7XoWRrE"
      }
    },
    {
      "cell_type": "markdown",
      "source": [
        "#### Типы данных"
      ],
      "metadata": {
        "id": "M-cYeMCDYha3"
      }
    },
    {
      "cell_type": "markdown",
      "source": [
        "**list** - лист/список - общепринятое название \"Массив\" или \"Array\" <br> films = ['Film_1', 'Film_1'] <br>\n",
        "**set** - коллекция *уникальных* элементов. (Hash Set) <br> set_films = set(films) <br>\n",
        "**dict** - он же словарь. Содержит пары ключ-значение {\"ключ\": 100}\n",
        "\n",
        "Позволяет хранить набор уникальных элементов (не сортированный)\n",
        "В отличие от листа - сет содержит только уникальные элементы\n",
        "\n",
        "Задаётся сет так же как dict - при помощи фигурных скобок:\n",
        "visited_cities = {'Tel-Aviv', 'Moscow', 'Vienna'}\n",
        "\n",
        "Однако, чтобы не путать с dict - пустой сет лучше всего задавать с помощью функции\n",
        "batman_parents = set()\n",
        "\n",
        "\n",
        "**tuple** - то же самое, что и лист, только неизменяемый (нельзя добавлять/удалять значения)\n",
        "Отличается от листа тем, что задаётся при помощи круглых скобок (либо функции tuple())\n",
        "parents = ('parent #1', 'parent #2')\n",
        "parents = tuple(['Mom', 'Dad'])\n",
        "\n",
        "**None** - ничего, пусто... Обозначает отсутствие какого-либо значения\n"
      ],
      "metadata": {
        "id": "u55d4Oy9WU9w"
      }
    },
    {
      "cell_type": "markdown",
      "source": [
        "#### Time complexity"
      ],
      "metadata": {
        "id": "QrNNJRYytP_V"
      }
    },
    {
      "cell_type": "markdown",
      "source": [
        "Обозначается большой буквой O с указанием в скобках как именно время операции зависит от объёма данных.\n",
        "Допустим, имея одно значение некая операция занимает 2 секунды, тогда:\n",
        "O(N)\n",
        "\n",
        "2 значения - 4 секунды\n",
        "\n",
        "3 значения - 6 секунд\n",
        "\n",
        "4 значения - 8 секунд\n",
        "\n",
        "и т. д.\n",
        "\n",
        "O(N2)\n",
        "\n",
        "2 значения - 16 секунд (2 секунды * 2 значения)2\n",
        "\n",
        "3 значения - 36 секунд (2 cекунды * 3 значения)2\n",
        "\n",
        "4 значения - 64 секунды\n",
        "\n",
        "и т. д.\n",
        "\n",
        "O(1) - не зависит от количества\n",
        "\n",
        "2 значения - 2 секунды\n",
        "\n",
        "3 значения - 2 секунды\n",
        "\n",
        "4 значения - 2 секунды\n",
        "\n",
        "и т. д."
      ],
      "metadata": {
        "id": "BUGOk__stTuJ"
      }
    },
    {
      "cell_type": "markdown",
      "source": [
        "#### Питонячие знаки и особенности"
      ],
      "metadata": {
        "id": "H0OULvKkMAfp"
      }
    },
    {
      "cell_type": "code",
      "source": [
        "# 1=1 упрощение\n",
        "\n",
        "smt = 10\n",
        "\n",
        "# Вместо этого\n",
        "\n",
        "if smt == True:\n",
        "  0\n",
        "\n",
        "\n",
        "# Пиши это:\n",
        "if smt:\n",
        "  0"
      ],
      "metadata": {
        "id": "KCuAG0_3MFj5"
      },
      "execution_count": null,
      "outputs": []
    },
    {
      "cell_type": "code",
      "source": [
        "# Математические знаки\n",
        "\n",
        "numenator = 10\n",
        "denominator = 5\n",
        "\n",
        "# Так не пиши\n",
        "result = numenator - denominator\n",
        "print(result)\n",
        "\n",
        "# А так пиши\n",
        "result = numenator\n",
        "result -= denominator\n",
        "result"
      ],
      "metadata": {
        "colab": {
          "base_uri": "https://localhost:8080/"
        },
        "id": "b9sBp1c-MXgR",
        "outputId": "81e21f54-3f03-4330-f41f-0d66b4c70b6e"
      },
      "execution_count": null,
      "outputs": [
        {
          "output_type": "stream",
          "name": "stdout",
          "text": [
            "5\n"
          ]
        },
        {
          "output_type": "execute_result",
          "data": {
            "text/plain": [
              "5"
            ]
          },
          "metadata": {},
          "execution_count": 16
        }
      ]
    },
    {
      "cell_type": "markdown",
      "source": [
        "#### Mutable и Immutable\n"
      ],
      "metadata": {
        "id": "L1fcmRpNYtSu"
      }
    },
    {
      "cell_type": "code",
      "source": [
        "# Mutable\n",
        "# Изменение возможно, добавление, удаление\n",
        "set_ = set()\n",
        "list_ = list()\n",
        "dictionary_ = dict{}"
      ],
      "metadata": {
        "id": "meMjLZxOIqkV"
      },
      "execution_count": null,
      "outputs": []
    },
    {
      "cell_type": "code",
      "source": [
        "# Immutable\n",
        "# Изменение не возможно. При изменении по факту будет создан новый объект\n",
        "word = str()\n",
        "number = 1\n",
        "tuple_ = tuple()"
      ],
      "metadata": {
        "id": "O_RNIU70I0j9"
      },
      "execution_count": null,
      "outputs": []
    },
    {
      "cell_type": "markdown",
      "source": [
        "#### Базовые типы данных"
      ],
      "metadata": {
        "id": "p4Kqqvn4kXcV"
      }
    },
    {
      "cell_type": "markdown",
      "source": [
        "**string** = str(). Строка с текстом. \"String\" или \"2\" это тоже строка <br>\n",
        "**integer** = int(). Целое число. 1, 9 <br>\n",
        "**Аналог NULL** - fax = None\n"
      ],
      "metadata": {
        "id": "onte8Uk9lkIC"
      }
    },
    {
      "cell_type": "code",
      "source": [
        "# String. Используется для текстовых значений. Для математических операций должен быть тип int или float\n",
        "age = \"33\"\n",
        "age = int(age)\n",
        "new_age = age + 1\n",
        "new_age"
      ],
      "metadata": {
        "id": "cQ18VNzDkmmE",
        "colab": {
          "base_uri": "https://localhost:8080/"
        },
        "outputId": "4d9a34c7-2176-4351-b8a5-14786dbfc0ce"
      },
      "execution_count": null,
      "outputs": [
        {
          "output_type": "execute_result",
          "data": {
            "text/plain": [
              "34"
            ]
          },
          "metadata": {},
          "execution_count": 1
        }
      ]
    },
    {
      "cell_type": "markdown",
      "source": [
        "## Модуль 2"
      ],
      "metadata": {
        "id": "Vh2z_TN_XYjw"
      }
    },
    {
      "cell_type": "markdown",
      "source": [
        "#### Функции. База"
      ],
      "metadata": {
        "id": "brIFRbnl1DDq"
      }
    },
    {
      "cell_type": "markdown",
      "source": [
        "#### Функции. if / else"
      ],
      "metadata": {
        "id": "DonYusmV9s-P"
      }
    },
    {
      "cell_type": "code",
      "source": [
        "# Интересное сравнение на НЕ пустое в 1 действие\n",
        "def go_shopping(is_eggs):\n",
        "    if is_eggs:          # тут не нужно is, == True или что-то другое\n",
        "        print(\"Купил десять батонов\")\n",
        "    else:\n",
        "        print(\"Купил один батон\")\n",
        "\n",
        "\n",
        "go_shopping(True)\n",
        "go_shopping(False)\n",
        "go_shopping(100)\n",
        "go_shopping(0)"
      ],
      "metadata": {
        "id": "6ZHvUevzFJEM",
        "colab": {
          "base_uri": "https://localhost:8080/"
        },
        "outputId": "56632af2-15dd-46fc-fc89-b1449a3cf85d"
      },
      "execution_count": null,
      "outputs": [
        {
          "output_type": "stream",
          "name": "stdout",
          "text": [
            "Купил десять батонов\n",
            "Купил один батон\n",
            "Купил десять батонов\n",
            "Купил один батон\n"
          ]
        }
      ]
    },
    {
      "cell_type": "code",
      "source": [
        "# 2 варианта, как можно сделать попадание в значение:\n",
        "\n",
        "# Только 1 вариант\n",
        "# def evaluate_number(num):\n",
        "#     if num > 0 and num <= 50:\n",
        "#         print(\"number > 0\")\n",
        "#     elif num <= 0:\n",
        "#         print(\"number <= 0\")\n",
        "#     elif num > 50 and num < 100:\n",
        "#         print(\"number > 50\")\n",
        "#     elif num == 100:\n",
        "#         print(\"number == 100\")\n",
        "#     elif num != 90:\n",
        "#         print(\"number != 90\")\n",
        "\n",
        "# Все возможные варианты\n",
        "def evaluate_number(num):\n",
        "    if num > 0:\n",
        "        print(\"number > 0\")\n",
        "    if num <= 0:\n",
        "        print(\"number <= 0\")\n",
        "    if num > 50:\n",
        "        print(\"number > 50\")\n",
        "    if num == 100:\n",
        "        print(\"number == 100\")\n",
        "    if num != 90:\n",
        "        print(\"number != 90\")\n",
        "\n",
        "\n",
        "evaluate_number(-100)\n",
        "evaluate_number(0)\n",
        "evaluate_number(90)\n",
        "evaluate_number(100)\n",
        "evaluate_number(1000)\n"
      ],
      "metadata": {
        "id": "V6QVnL1gaYUs",
        "colab": {
          "base_uri": "https://localhost:8080/"
        },
        "outputId": "be008f33-c909-473f-c96e-b8d8ca738ad1"
      },
      "execution_count": null,
      "outputs": [
        {
          "output_type": "stream",
          "name": "stdout",
          "text": [
            "number <= 0\n",
            "number != 90\n",
            "number <= 0\n",
            "number != 90\n",
            "number > 0\n",
            "number > 50\n",
            "number > 0\n",
            "number > 50\n",
            "number == 100\n",
            "number != 90\n",
            "number > 0\n",
            "number > 50\n",
            "number != 90\n"
          ]
        }
      ]
    },
    {
      "cell_type": "markdown",
      "source": [
        "#### Математические формулы"
      ],
      "metadata": {
        "id": "xXlJ4QmzSrd6"
      }
    },
    {
      "cell_type": "code",
      "execution_count": null,
      "metadata": {
        "id": "DxDue_VgP3mi"
      },
      "outputs": [],
      "source": [
        "a = 10\n",
        "b = 4.5\n",
        "\n",
        "subtraction = a - b\n",
        "addition = a + b\n",
        "multiplication = a * b\n",
        "power_of = a ** b\n",
        "division = a / b\n",
        "floor_division = a // b\n",
        "remainder = a % b"
      ]
    },
    {
      "cell_type": "code",
      "source": [
        "# Is even\n",
        "def is_even(num):\n",
        "    if num / 2 == num // 2:\n",
        "        return True\n",
        "    else:\n",
        "        return False\n",
        "\n",
        "print(is_even(2))\n",
        "print(is_even(3))"
      ],
      "metadata": {
        "colab": {
          "base_uri": "https://localhost:8080/"
        },
        "id": "_ukfZ-M3XMqr",
        "outputId": "6bf182da-f0ba-4cda-8f4a-fbbe6f094c85"
      },
      "execution_count": null,
      "outputs": [
        {
          "output_type": "stream",
          "name": "stdout",
          "text": [
            "True\n",
            "False\n"
          ]
        }
      ]
    },
    {
      "cell_type": "code",
      "source": [
        "# Високосный ли год?\n",
        "def is_leap_year(year):\n",
        "    if year / 4 == year // 4:\n",
        "        return True\n",
        "    else:\n",
        "        return False\n",
        "\n",
        "print(is_leap_year(2023))"
      ],
      "metadata": {
        "colab": {
          "base_uri": "https://localhost:8080/"
        },
        "id": "k393ZwOOXO0e",
        "outputId": "0bacb291-92a6-4859-f682-bb81ea85bdbd"
      },
      "execution_count": null,
      "outputs": [
        {
          "output_type": "stream",
          "name": "stdout",
          "text": [
            "False\n"
          ]
        }
      ]
    },
    {
      "cell_type": "markdown",
      "source": [
        "#### Великая мысль\n",
        "<br>\n",
        "\n",
        "Любой проект должен:\n",
        "\n",
        "1.   ввод данных\n",
        "2.   обработка данных\n",
        "3.   вывод данных\n",
        "\n"
      ],
      "metadata": {
        "id": "0HgxPCIGYHdL"
      }
    },
    {
      "cell_type": "markdown",
      "source": [
        "## Модуль 3. ООП"
      ],
      "metadata": {
        "id": "tXxO9ZAsoCPS"
      }
    },
    {
      "cell_type": "markdown",
      "source": [
        "**Основная теория**\n",
        "\n",
        "\n",
        "\n",
        "1.   Абстракция / Abstraction -- вызов методов через self.\n",
        "3.   Наследование / Inheritence -- Переиспользуем методы родительского класса в дочернем\n",
        "4.   Полиморфизм / Polymorphism -- 1 метод делает разное в разных классах\n",
        "\n",
        "\n"
      ],
      "metadata": {
        "id": "fT-7bwqvoHMD"
      }
    },
    {
      "cell_type": "code",
      "source": [
        "# Классы. Основа\n",
        "class Human():\n",
        "    def __init__(self, username, first_name, last_name):\n",
        "        self.username = username\n",
        "        self.first_name = first_name\n",
        "        self.last_name = last_name\n",
        "\n",
        "new_user = Human(\"@123\",\"test_user\",\"test\")\n",
        "\n",
        "print(new_user.username)\n",
        "print(new_user.first_name)\n",
        "print(new_user.last_name)"
      ],
      "metadata": {
        "colab": {
          "base_uri": "https://localhost:8080/"
        },
        "id": "tDM6R75IYENh",
        "outputId": "d421b564-99d5-4c90-ea46-ef05b339d35a"
      },
      "execution_count": null,
      "outputs": [
        {
          "output_type": "stream",
          "name": "stdout",
          "text": [
            "@123\n",
            "test_user\n",
            "test\n"
          ]
        }
      ]
    },
    {
      "cell_type": "code",
      "source": [
        "# Как делать хочется, но не надо!\n",
        "class Human:\n",
        "    def __init__(self, a, b):\n",
        "        self.first_name = a\n",
        "        self.last_name = b"
      ],
      "metadata": {
        "id": "7w3kjJVVudJR"
      },
      "execution_count": null,
      "outputs": []
    },
    {
      "cell_type": "code",
      "source": [
        "new_user = Human(\"John\", \"Doe\")\n",
        "print(new_user.first_name)\n",
        "print(new_user.last_name)"
      ],
      "metadata": {
        "colab": {
          "base_uri": "https://localhost:8080/"
        },
        "id": "eZHHPSCEuxQu",
        "outputId": "e7f378e5-0fad-45d9-b585-793dada78b1b"
      },
      "execution_count": null,
      "outputs": [
        {
          "output_type": "stream",
          "name": "stdout",
          "text": [
            "John\n",
            "Doe\n"
          ]
        }
      ]
    },
    {
      "cell_type": "code",
      "source": [
        "# Немного про методы\n",
        "class File:\n",
        "    def __init__(self, path, filename, extension=\"png\"):  # Method\n",
        "        self.path = path\n",
        "        self.filename = filename\n",
        "        self.extension = extension\n",
        "\n",
        "    def __str__(self):   # Also Method. returns a formatted path\n",
        "        return f\"{self.path}/{self.filename}.{self.extension}\"\n",
        "\n",
        "\n",
        "\n",
        "file1 = File(path=\"/Users\", filename=\"test\")\n",
        "file2 = File(path=\"/Users/Docs\", filename=\"test_1\", extension=\"jpeg\")\n",
        "\n",
        "print(file1)\n"
      ],
      "metadata": {
        "id": "Y1UGKqHpiJpd",
        "colab": {
          "base_uri": "https://localhost:8080/"
        },
        "outputId": "29d81c43-8a34-4049-949f-9c66058baaba"
      },
      "execution_count": null,
      "outputs": [
        {
          "output_type": "stream",
          "name": "stdout",
          "text": [
            "/Users/test.png\n"
          ]
        }
      ]
    },
    {
      "cell_type": "markdown",
      "source": [
        "### Encapsulation - Инкапсуляция"
      ],
      "metadata": {
        "id": "xv_YAn0-Gina"
      }
    },
    {
      "cell_type": "code",
      "source": [
        "class BankAccount:\n",
        "    def __init__(self, number, currency):\n",
        "        self.number = number\n",
        "        self.currency = currency\n",
        "        self.amount = 0\n",
        "\n",
        "    def __str__(self):   # Also a Method. returns a formatted path\n",
        "        return f\"Your number is {self.number}, amount is {self.amount} currency {self.amount}\"\n",
        "\n",
        "    def deposit(self, value):\n",
        "        if value:\n",
        "            # print(f\"User {self.number} have credited {value}\") # changed to print_account method\n",
        "            self.amount = self.amount + value\n",
        "            # print(f\"Total amount is {self.amount} {self.currency}\")\n",
        "\n",
        "    def withdraw(self, value):\n",
        "        self.amount = self.amount - value\n",
        "\n",
        "    def print_account(self):\n",
        "        print(f'Account number: {self.number}')\n",
        "        print(f'Amount: {self.amount} {self.currency}')\n",
        "\n",
        "\n",
        "# credit_account = BankAccount(number=2151616125251, currency='USD')\n",
        "# debit_account = BankAccount(number=20919815115516, currency='USD')\n",
        "\n",
        "# add_funded = BankAccount(number=2151616125251, currency='USD')\n",
        "# add_funded.deposit(value=150)\n",
        "# print(add_funded.amount)\n",
        "#\n",
        "# add_funded.withdraw(value=140)\n",
        "# print(add_funded.amount)\n",
        "\n",
        "account = BankAccount(number=12345, currency=\"USD\")\n",
        "account.print_account()\n",
        "account.deposit(value=100)\n",
        "account.print_account()\n",
        "account.withdraw(value=150)\n",
        "account.print_account()\n"
      ],
      "metadata": {
        "colab": {
          "base_uri": "https://localhost:8080/"
        },
        "id": "9QKmhs37GpKe",
        "outputId": "bba617bf-7799-4d33-f9ca-acf0c62d5b72"
      },
      "execution_count": null,
      "outputs": [
        {
          "output_type": "stream",
          "name": "stdout",
          "text": [
            "Account number: 12345\n",
            "Amount: 0 USD\n",
            "Account number: 12345\n",
            "Amount: 100 USD\n",
            "Account number: 12345\n",
            "Amount: -50 USD\n"
          ]
        }
      ]
    },
    {
      "cell_type": "markdown",
      "source": [
        "### Handling empty row in class"
      ],
      "metadata": {
        "id": "7AMF6BDUAuls"
      }
    },
    {
      "cell_type": "code",
      "source": [
        "# This is fine!\n",
        "\n",
        "class MyClass:\n",
        "  pass\n",
        "\n",
        "# This is not!!\n",
        "\n",
        "# class MyClass:\n",
        "\n"
      ],
      "metadata": {
        "id": "xyZADbpVAsXp"
      },
      "execution_count": null,
      "outputs": []
    },
    {
      "cell_type": "markdown",
      "source": [
        "## Модуль 4. Циклы"
      ],
      "metadata": {
        "id": "6UtRxyrfMVol"
      }
    },
    {
      "cell_type": "markdown",
      "source": [
        "### Листы"
      ],
      "metadata": {
        "id": "HY0SsR-ET8UB"
      }
    },
    {
      "cell_type": "code",
      "source": [
        "# Листы.\n",
        "list_1 = list(range(10))\n",
        "# ctrl + click to see builtins.py, and all methods in it\n",
        "list_1.remove(1)\n",
        "list_1.append(2)\n",
        "list_1.index(0)\n",
        "\n",
        "print(list_1)\n",
        "\n",
        "list_1 = list_1.pop(2)\n",
        "\n",
        "print(list_1)\n",
        "\n",
        "#"
      ],
      "metadata": {
        "id": "l7gVkiCy2FhO"
      },
      "execution_count": null,
      "outputs": []
    },
    {
      "cell_type": "code",
      "source": [
        "# Удаление индекса:\n",
        "\n",
        "# Write add_to_grocery_list function\n",
        "to_buy = ['avocado', 'milk', 'eggs']\n",
        "\n",
        "# def add_to_grocery_list(grocery_list: list, new_item: str):\n",
        "#     grocery_list.append(new_item)\n",
        "\n",
        "\n",
        "# def remove_last_from_grocery_list(grocery_list: list):\n",
        "#     return grocery_list.pop()\n",
        "#\n",
        "# remove_last_from_grocery_list(to_buy)\n",
        "\n",
        "# def remove_first_from_grocery_list(grocery_list: list):\n",
        "#     return grocery_list.pop(0)\n",
        "#\n",
        "# remove_first_from_grocery_list(to_buy)\n",
        "\n",
        "# Delete by index\n",
        "# def remove_from_grocery_list(grocery_list: list, remove: str):\n",
        "#     try:\n",
        "#         grocery_list.pop(grocery_list.index(remove))\n",
        "#     except ValueError as error:\n",
        "#         print(error)\n",
        "#\n",
        "# removed = remove_from_grocery_list(to_buy, 'milk')   # milk\n",
        "# remove_from_grocery_list(to_buy, 'chicken')  # вызовет ошибку ValueError\n",
        "#\n",
        "# print(removed)\n",
        "# print(to_buy)\n",
        "\n",
        "# Delete by index but simpler\n",
        "def remove_from_grocery_list(grocery_list: list, item: str):\n",
        "    return grocery_list.pop(grocery_list.index(item))\n",
        "\n",
        "removed = remove_from_grocery_list(to_buy, 'milk')   # milk\n",
        "remove_from_grocery_list(to_buy, 'chicken')  # вызовет ошибку ValueError\n",
        "\n",
        "print(removed)\n",
        "print(to_buy)"
      ],
      "metadata": {
        "id": "Yfk-e6NhMe43"
      },
      "execution_count": null,
      "outputs": []
    },
    {
      "cell_type": "markdown",
      "source": [
        "### Словари"
      ],
      "metadata": {
        "id": "kx2z3fCdT4ur"
      }
    },
    {
      "cell_type": "code",
      "source": [
        "# Dictionaries"
      ],
      "metadata": {
        "id": "HlN2zEiQT1yP"
      },
      "execution_count": null,
      "outputs": []
    },
    {
      "cell_type": "markdown",
      "source": [
        "### Циклы!"
      ],
      "metadata": {
        "id": "KNoWAYqwTkiq"
      }
    },
    {
      "cell_type": "markdown",
      "source": [
        "#### Натуральный цикл for"
      ],
      "metadata": {
        "id": "KgRwFF4hisb0"
      }
    },
    {
      "cell_type": "code",
      "source": [
        "# Натуральный цикл / Natural cycle\n",
        "def show_groceries_simple(grocery_list: list):\n",
        "    for item in grocery_list:\n",
        "        print(item)\n",
        "\n",
        "g_list = ['bread', 'milk', 'beans']\n",
        "\n",
        "show_groceries_simple(g_list)"
      ],
      "metadata": {
        "id": "wCPMMdoHTmmf"
      },
      "execution_count": null,
      "outputs": []
    },
    {
      "cell_type": "code",
      "source": [
        "# Show sum of values 2 from dict list\n",
        "def get_sum(grocery_list: list, price_increase: int):\n",
        "    total = 0\n",
        "    for pair in grocery_list:\n",
        "        total += pair['price'] + price_increase\n",
        "    return total"
      ],
      "metadata": {
        "id": "yStk3srXi2mk"
      },
      "execution_count": null,
      "outputs": []
    },
    {
      "cell_type": "markdown",
      "source": [
        "### Цикл for in range"
      ],
      "metadata": {
        "id": "slBfqbCQi86w"
      }
    },
    {
      "cell_type": "code",
      "source": [
        "# Range theory\n",
        "print(list(range(10)))\n",
        "print(list(range(3,9,3)))\n",
        "print(len(list(range(3,9,3))))\n",
        "\n",
        "# Output all values from range\n",
        "for i in range(10):\n",
        "    print(f\"Printing {i}\")\n",
        "\n",
        "# len + range\n",
        "grocery_list = [{'name': 'banana'}, {'name': 'apple'}]\n",
        "\n",
        "print(len(grocery_list))\n",
        "\n",
        "# Iterate by index of a value\n",
        "for i in range(len(grocery_list)):\n",
        "    print(f\"Printing {grocery_list[i]['name']}\")\n",
        "\n",
        "\n",
        "# Enumerate. Add tuple with 1: value, 2: value...\n",
        "print(list(enumerate(grocery_list)))\n",
        "\n",
        "# Task 1\n",
        "# Get queue size like 0+1+2+3\n",
        "def get_queue_score(amount_of_people: int):\n",
        "    total = 0\n",
        "    for i in range(amount_of_people):\n",
        "        total += i\n",
        "    return total\n",
        "\n",
        "print(get_queue_score(5))"
      ],
      "metadata": {
        "id": "aVM1cbk2jAm5"
      },
      "execution_count": null,
      "outputs": []
    },
    {
      "cell_type": "markdown",
      "source": [],
      "metadata": {
        "id": "zzoOODxmi_U4"
      }
    }
  ]
}