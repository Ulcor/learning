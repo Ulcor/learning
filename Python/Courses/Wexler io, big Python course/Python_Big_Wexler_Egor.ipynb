{
  "nbformat": 4,
  "nbformat_minor": 0,
  "metadata": {
    "colab": {
      "provenance": []
    },
    "kernelspec": {
      "name": "python3",
      "display_name": "Python 3"
    },
    "language_info": {
      "name": "python"
    }
  },
  "cells": [
    {
      "cell_type": "markdown",
      "source": [
        "# Оглавление\n",
        "1. Введение в курс\n",
        "   - База\n",
        "   - Quality metrics\n",
        "2. Модуль 2\n",
        "   - Типы данных"
      ],
      "metadata": {
        "id": "KWNgIodcQDMp"
      }
    },
    {
      "cell_type": "markdown",
      "source": [
        "Типы данных"
      ],
      "metadata": {
        "id": "OjUVLzzoP_3X"
      }
    },
    {
      "cell_type": "markdown",
      "source": [
        "## 1. Введение в курс"
      ],
      "metadata": {
        "id": "nrAAdHilWOp7"
      }
    },
    {
      "cell_type": "markdown",
      "source": [
        "### База"
      ],
      "metadata": {
        "id": "KUy_X7XoWRrE"
      }
    },
    {
      "cell_type": "markdown",
      "source": [
        "#### Типы данных"
      ],
      "metadata": {
        "id": "M-cYeMCDYha3"
      }
    },
    {
      "cell_type": "markdown",
      "source": [
        "**list** - лист/список - общепринятое название \"Массив\" или \"Array\" <br> films = ['Film_1', 'Film_1'] <br>\n",
        "**set** - коллекция *уникальных* элементов. (Hash Set) <br> set_films = set(films) <br>\n",
        "**dict** - он же словарь. Содержит пары ключ-значение {\"ключ\": 100}\n",
        "\n",
        "Позволяет хранить набор уникальных элементов (не сортированный)\n",
        "В отличие от листа - сет содержит только уникальные элементы\n",
        "\n",
        "Задаётся сет так же как dict - при помощи фигурных скобок:\n",
        "visited_cities = {'Tel-Aviv', 'Moscow', 'Vienna'}\n",
        "\n",
        "Однако, чтобы не путать с dict - пустой сет лучше всего задавать с помощью функции\n",
        "batman_parents = set()\n",
        "\n",
        "\n",
        "**tuple** - то же самое, что и лист, только неизменяемый (нельзя добавлять/удалять значения)\n",
        "Отличается от листа тем, что задаётся при помощи круглых скобок (либо функции tuple())\n",
        "parents = ('parent #1', 'parent #2')\n",
        "parents = tuple(['Mom', 'Dad'])\n",
        "\n",
        "**None** - ничего, пусто... Обозначает отсутствие какого-либо значения\n"
      ],
      "metadata": {
        "id": "u55d4Oy9WU9w"
      }
    },
    {
      "cell_type": "markdown",
      "source": [
        "#### Time complexity"
      ],
      "metadata": {
        "id": "QrNNJRYytP_V"
      }
    },
    {
      "cell_type": "markdown",
      "source": [
        "Обозначается большой буквой O с указанием в скобках как именно время операции зависит от объёма данных.\n",
        "Допустим, имея одно значение некая операция занимает 2 секунды, тогда:\n",
        "O(N)\n",
        "\n",
        "2 значения - 4 секунды\n",
        "\n",
        "3 значения - 6 секунд\n",
        "\n",
        "4 значения - 8 секунд\n",
        "\n",
        "и т. д.\n",
        "\n",
        "O(N2)\n",
        "\n",
        "2 значения - 16 секунд (2 секунды * 2 значения)2\n",
        "\n",
        "3 значения - 36 секунд (2 cекунды * 3 значения)2\n",
        "\n",
        "4 значения - 64 секунды\n",
        "\n",
        "и т. д.\n",
        "\n",
        "O(1) - не зависит от количества\n",
        "\n",
        "2 значения - 2 секунды\n",
        "\n",
        "3 значения - 2 секунды\n",
        "\n",
        "4 значения - 2 секунды\n",
        "\n",
        "и т. д."
      ],
      "metadata": {
        "id": "BUGOk__stTuJ"
      }
    },
    {
      "cell_type": "markdown",
      "source": [
        "#### Mutable и Immutable\n"
      ],
      "metadata": {
        "id": "L1fcmRpNYtSu"
      }
    },
    {
      "cell_type": "markdown",
      "source": [
        "#### Базовые типы данных"
      ],
      "metadata": {
        "id": "p4Kqqvn4kXcV"
      }
    },
    {
      "cell_type": "markdown",
      "source": [
        "**string** = str(). Строка с текстом. \"String\" или \"2\" это тоже строка <br>\n",
        "**integer** = int(). Целое число. 1, 9 <br>\n",
        "**Аналог NULL** - fax = None\n"
      ],
      "metadata": {
        "id": "onte8Uk9lkIC"
      }
    },
    {
      "cell_type": "code",
      "source": [
        "# String. Используется для текстовых значений. Для математических операций должен быть тип int или float\n",
        "age = \"33\"\n",
        "age = int(age)\n",
        "new_age = age + 1\n",
        "new_age\n",
        "\n",
        "\n"
      ],
      "metadata": {
        "id": "cQ18VNzDkmmE"
      },
      "execution_count": null,
      "outputs": []
    },
    {
      "cell_type": "markdown",
      "source": [
        "## 2. Модуль"
      ],
      "metadata": {
        "id": "Vh2z_TN_XYjw"
      }
    },
    {
      "cell_type": "markdown",
      "source": [
        "#### Функции. База"
      ],
      "metadata": {
        "id": "brIFRbnl1DDq"
      }
    },
    {
      "cell_type": "markdown",
      "source": [
        "#### Функции. if / else"
      ],
      "metadata": {
        "id": "DonYusmV9s-P"
      }
    },
    {
      "cell_type": "code",
      "source": [
        "# Интересное сравнение на НЕ пустое в 1 действие\n",
        "def go_shopping(is_eggs):\n",
        "    if is_eggs:          # тут не нужно is, == True или что-то другое\n",
        "        print(\"Купил десять батонов\")\n",
        "    else:\n",
        "        print(\"Купил один батон\")\n",
        "\n",
        "\n",
        "go_shopping(True)\n",
        "go_shopping(False)\n",
        "go_shopping(100)\n",
        "go_shopping(0)"
      ],
      "metadata": {
        "id": "6ZHvUevzFJEM"
      },
      "execution_count": null,
      "outputs": []
    },
    {
      "cell_type": "code",
      "source": [
        "# 2 варианта, как можно сделать попадание в значение:\n",
        "\n",
        "# Только 1 вариант\n",
        "# def evaluate_number(num):\n",
        "#     if num > 0 and num <= 50:\n",
        "#         print(\"number > 0\")\n",
        "#     elif num <= 0:\n",
        "#         print(\"number <= 0\")\n",
        "#     elif num > 50 and num < 100:\n",
        "#         print(\"number > 50\")\n",
        "#     elif num == 100:\n",
        "#         print(\"number == 100\")\n",
        "#     elif num != 90:\n",
        "#         print(\"number != 90\")\n",
        "\n",
        "# Все возможные варианты\n",
        "def evaluate_number(num):\n",
        "    if num > 0:\n",
        "        print(\"number > 0\")\n",
        "    if num <= 0:\n",
        "        print(\"number <= 0\")\n",
        "    if num > 50:\n",
        "        print(\"number > 50\")\n",
        "    if num == 100:\n",
        "        print(\"number == 100\")\n",
        "    if num != 90:\n",
        "        print(\"number != 90\")\n",
        "\n",
        "\n",
        "evaluate_number(-100)\n",
        "evaluate_number(0)\n",
        "evaluate_number(90)\n",
        "evaluate_number(100)\n",
        "evaluate_number(1000)\n"
      ],
      "metadata": {
        "id": "V6QVnL1gaYUs"
      },
      "execution_count": null,
      "outputs": []
    },
    {
      "cell_type": "markdown",
      "source": [
        "#### Математические формулы"
      ],
      "metadata": {
        "id": "xXlJ4QmzSrd6"
      }
    },
    {
      "cell_type": "code",
      "execution_count": 2,
      "metadata": {
        "id": "DxDue_VgP3mi"
      },
      "outputs": [],
      "source": [
        "a = 10\n",
        "b = 4.5\n",
        "\n",
        "subtraction = a - b\n",
        "addition = a + b\n",
        "multiplication = a * b\n",
        "power_of = a ** b\n",
        "division = a / b\n",
        "floor_division = a // b\n",
        "remainder = a % b"
      ]
    },
    {
      "cell_type": "code",
      "source": [
        "# Is even\n",
        "def is_even(num):\n",
        "    if num / 2 == num // 2:\n",
        "        return True\n",
        "    else:\n",
        "        return False\n",
        "\n",
        "print(is_even(2))\n",
        "print(is_even(3))"
      ],
      "metadata": {
        "colab": {
          "base_uri": "https://localhost:8080/"
        },
        "id": "_ukfZ-M3XMqr",
        "outputId": "7321d157-97cb-434e-cf62-c1c060614a49"
      },
      "execution_count": 4,
      "outputs": [
        {
          "output_type": "stream",
          "name": "stdout",
          "text": [
            "True\n",
            "False\n"
          ]
        }
      ]
    },
    {
      "cell_type": "code",
      "source": [
        "# Високосный ли год?\n",
        "def is_leap_year(year):\n",
        "    if year / 4 == year // 4:\n",
        "        return True\n",
        "    else:\n",
        "        return False\n",
        "\n",
        "print(is_leap_year(2023))"
      ],
      "metadata": {
        "colab": {
          "base_uri": "https://localhost:8080/"
        },
        "id": "k393ZwOOXO0e",
        "outputId": "70a32ff8-58b5-4b52-95be-54ad431f6ec0"
      },
      "execution_count": 3,
      "outputs": [
        {
          "output_type": "stream",
          "name": "stdout",
          "text": [
            "False\n"
          ]
        }
      ]
    },
    {
      "cell_type": "markdown",
      "source": [
        "#### Великая мысль\n",
        "<br>\n",
        "\n",
        "Любой проект должен:\n",
        "\n",
        "1.   ввод данных\n",
        "2.   обработка данных\n",
        "3.   вывод данных\n",
        "\n"
      ],
      "metadata": {
        "id": "0HgxPCIGYHdL"
      }
    },
    {
      "cell_type": "code",
      "source": [],
      "metadata": {
        "id": "tDM6R75IYENh"
      },
      "execution_count": null,
      "outputs": []
    }
  ]
}