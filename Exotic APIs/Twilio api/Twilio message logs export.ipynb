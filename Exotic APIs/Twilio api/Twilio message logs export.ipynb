{
 "cells":[
  {
   "cell_type":"markdown",
   "source":[
    "Official docs <br >\n",
    "https:\/\/www.twilio.com\/docs\/usage\/secure-credentials: Everything about setting up environmental creds <br >\n",
    "https:\/\/www.twilio.com\/docs\/messaging\/tutorials\/how-to-retrieve-and-modify-message-history: Everything about getting messages"
   ],
   "attachments":{
    
   },
   "metadata":{
    "datalore":{
     "node_id":"RdJOVS5xPIAs0z7iFTN2oF",
     "type":"MD",
     "hide_input_from_viewers":true,
     "hide_output_from_viewers":true
    }
   }
  },
  {
   "cell_type":"code",
   "source":[
    "# Alternative method of saving enviromental variables. Only works for 1 session\n",
    "# Never share or save your tokens!\n",
    "\n",
    "# imports\n",
    "import os\n",
    "import pandas as pd\n",
    "from twilio.rest import Client\n",
    "from datetime import datetime, timedelta\n",
    "from tqdm import tqdm\n",
    "import numpy as np\n",
    "\n",
    "\n",
    "# Find your credentials at twilio.com\/console. Keeps your credentials safe\n",
    "os.environ['TWILIO_ACCOUNT_SID'] = '' # insert your Account SID here\n",
    "os.environ['TWILIO_ACCOUNT_TOKEN'] = '' # insert your token here"
   ],
   "execution_count":null,
   "outputs":[
    
   ],
   "metadata":{
    "datalore":{
     "node_id":"VC3sbjUt2Q2sR7RwuMvStt",
     "type":"CODE",
     "hide_input_from_viewers":true,
     "hide_output_from_viewers":true
    }
   }
  },
  {
   "cell_type":"markdown",
   "source":[
    "### Read credentials"
   ],
   "attachments":{
    
   },
   "metadata":{
    "datalore":{
     "node_id":"NYfCaqA1fN1N8hxv1kLrS1",
     "type":"MD",
     "hide_input_from_viewers":true,
     "hide_output_from_viewers":true
    }
   }
  },
  {
   "cell_type":"code",
   "source":[
    "# Load your credentials. In this example we already saved them in local environment\n",
    "account_sid = os.environ['TWILIO_ACCOUNT_SID']\n",
    "auth_token = os.environ['TWILIO_ACCOUNT_TOKEN']\n",
    "\n",
    "# Initialise\n",
    "client = Client(account_sid, auth_token)"
   ],
   "execution_count":null,
   "outputs":[
    
   ],
   "metadata":{
    "datalore":{
     "node_id":"k58XT3PFz8g0hwUca4sSuN",
     "type":"CODE",
     "hide_input_from_viewers":true,
     "hide_output_from_viewers":true
    }
   }
  },
  {
   "cell_type":"markdown",
   "source":[
    "### Test cell"
   ],
   "attachments":{
    
   },
   "metadata":{
    "datalore":{
     "node_id":"9XJXwLjAm8Bg2YWcSZfQof",
     "type":"MD",
     "hide_input_from_viewers":true,
     "hide_output_from_viewers":true
    }
   }
  },
  {
   "cell_type":"code",
   "source":[
    "\n",
    "# Repo and installation https:\/\/github.com\/twilio\/twilio-python\n",
    "import os\n",
    "from twilio.rest import Client\n",
    "\n",
    "# Limit, how many messages do we want to get as a response\n",
    "messages = client.messages.list(limit=100)\n",
    "\n",
    "# Test that we recieve a cpecific data from a specific column\n",
    "for record in messages:\n",
    "    print(record.sid) # specify a column"
   ],
   "execution_count":1,
   "outputs":[
    
   ],
   "metadata":{
    "datalore":{
     "node_id":"y8Ulkmibe6bSeInHh7PAVz",
     "type":"CODE",
     "hide_input_from_viewers":true,
     "hide_output_from_viewers":true
    }
   }
  },
  {
   "cell_type":"markdown",
   "source":[
    "### Functions"
   ],
   "attachments":{
    
   },
   "metadata":{
    "datalore":{
     "node_id":"9dHv33VvBdSBzBRyuR9rcT",
     "type":"MD",
     "hide_input_from_viewers":true,
     "hide_output_from_viewers":true
    }
   }
  },
  {
   "cell_type":"code",
   "source":[
    "def create_dataframe(records):\n",
    "    df_data = []\n",
    "    for record in records:\n",
    "        df_data.append({\n",
    "            'phone_from': record.from_,\n",
    "            'phone_to': record.to,\n",
    "            'body': record.body,\n",
    "            'status': record.status,\n",
    "            'date_sent_format': record.date_sent.strftime(\"%Y-%m-%d\"), #datetime.strptime(record.date_sent, \"%a, %d %b %Y %H:%M:%S %z\").strftime(\"%Y-%m-%d\"),\n",
    "            'date_sent': record.date_sent,\n",
    "            'api_version': record.api_version,\n",
    "            'num_segments': record.num_segments,\n",
    "            'error_message': record.error_message,\n",
    "            'account_sid': record.account_sid,\n",
    "            'sid': record.sid,\n",
    "            'direction': record.direction,\n",
    "            'price': record.price,\n",
    "            'price_unit': record.price_unit,\n",
    "        })\n",
    "\n",
    "    return pd.DataFrame(df_data)\n",
    "\n",
    "def limiter(limit=None, date_range=None):\n",
    "    if date_range:\n",
    "        start_date, end_date = date_range\n",
    "    else:\n",
    "        start_date, end_date = None, None\n",
    "\n",
    "    all_records = []\n",
    "    page_size = 200  # Twilio default page size\n",
    "\n",
    "    # Get total number of messages\n",
    "    total_messages = len(list(client.messages.list(\n",
    "        date_sent_after=start_date,\n",
    "        date_sent_before=end_date,\n",
    "    )))\n",
    "\n",
    "    # Calculate the number of batches needed\n",
    "    total_batches = total_messages \/\/ page_size + (total_messages % page_size > 0)\n",
    "\n",
    "    # Initialize tqdm to reflect the number of batches\n",
    "    pbar = tqdm(total=total_batches, desc=\"Loading batches\", unit=\"batch\")\n",
    "\n",
    "    # Paginate through the records using the stream method\n",
    "    for page in client.messages.stream(\n",
    "            date_sent_after=start_date,\n",
    "            date_sent_before=end_date\n",
    "    ):\n",
    "        all_records.append(page)\n",
    "\n",
    "        # Update the progress bar description\n",
    "        pbar.set_description(f\"Loading batches {len(all_records)\/\/page_size}\/{total_batches} - Time: {pbar.format_dict['elapsed']}\")\n",
    "\n",
    "        # If the limit is set, break after loading the required number of records\n",
    "        if limit and len(all_records) >= limit:\n",
    "            break\n",
    "\n",
    "    pbar.close()\n",
    "\n",
    "    # Create the DataFrame from all records\n",
    "    df = create_dataframe(all_records[:limit])\n",
    "    return df\n",
    "\n",
    "# Date range mode - load messages within a specific date range\n",
    "start_date = datetime(2023, 9, 1)\n",
    "end_date = datetime(2023, 11, 28)\n",
    "date_range = (start_date, end_date)\n"
   ],
   "execution_count":null,
   "outputs":[
    
   ],
   "metadata":{
    "datalore":{
     "node_id":"7xS6aGnzatRspidxAum0Zh",
     "type":"CODE",
     "hide_input_from_viewers":true,
     "hide_output_from_viewers":true
    }
   }
  },
  {
   "cell_type":"markdown",
   "source":[
    "### Create table and first run"
   ],
   "attachments":{
    
   },
   "metadata":{
    "datalore":{
     "node_id":"tX6tIxNTsLLo1zk81JooFW",
     "type":"MD",
     "hide_input_from_viewers":true,
     "hide_output_from_viewers":true
    }
   }
  },
  {
   "cell_type":"code",
   "source":[
    "table_create = '''\n",
    "CREATE OR REPLACE TABLE your_project.dataset.twilio\n",
    "\n",
    "(\n",
    "    phone_from       INT64,\n",
    "    phone_to         INT64,\n",
    "    body             STRING,\n",
    "    status           STRING,\n",
    "    date_sent_format DATE,\n",
    "    date_sent        TIMESTAMP,\n",
    "    api_version      STRING,\n",
    "    num_segments     STRING,\n",
    "    error_message    STRING,\n",
    "    account_sid      STRING,\n",
    "    sid              STRING,\n",
    "    direction        STRING,\n",
    "    price            FLOAT64,\n",
    "    price_unit       STRING\n",
    ")\n",
    "PARTITION BY date_sent_format\n",
    "CLUSTER BY date_sent, phone_to, sid\n",
    "OPTIONS (\n",
    "    DESCRIPTION = 'Contains whatsapp messages from twilio service'\n",
    "    )\n",
    "'''"
   ],
   "execution_count":null,
   "outputs":[
    
   ],
   "metadata":{
    "datalore":{
     "node_id":"VGZW50h4z9c2NRaZb8sY45",
     "type":"CODE",
     "hide_input_from_viewers":true,
     "hide_output_from_viewers":true
    }
   }
  },
  {
   "cell_type":"code",
   "source":[
    "\n",
    "# first run\n",
    "# ------------------------- Commented. First use only - get initial chunk of data and load it into an empty table -------------------------\n",
    "# df_records_date_range = limiter(date_range=date_range)\n",
    "\n",
    "## remove \"whatsapp +\" from number and price to float64\n",
    "# df_records_date_range['phone_from'] = df_records_date_range['phone_from'].str.extract('(\\d+)').replace(np.nan, 0).astype(int)\n",
    "# df_records_date_range['phone_to'] = df_records_date_range['phone_to'].str.extract('(\\d+)').replace(np.nan, 0).astype(int)\n",
    "# df_records_date_range['price'] = df_records_date_range['price'].replace(np.nan,0).astype(float).abs()\n",
    "# df_records_date_range\n",
    "\n",
    "# initial load\n",
    "# df_records_date_range.to_gbq(destination_table='dataset.twilio', project_id='your_project', if_exists='replace')\n",
    "# print(f'Loaded! At {datetime.now()}')\n",
    "# df_records_date_range.info()\n",
    "\n",
    "# ------------------------- Commented. First use only ------------------------"
   ],
   "execution_count":null,
   "outputs":[
    
   ],
   "metadata":{
    "datalore":{
     "node_id":"aKTxNPeDSlJhTLiWpbPWeE",
     "type":"CODE",
     "hide_input_from_viewers":true,
     "hide_output_from_viewers":true
    }
   }
  },
  {
   "cell_type":"markdown",
   "source":[
    "### Main ETL"
   ],
   "attachments":{
    
   },
   "metadata":{
    "datalore":{
     "node_id":"SerTNZjURjFTbAUwNV7quN",
     "type":"MD",
     "hide_input_from_viewers":true,
     "hide_output_from_viewers":true
    }
   }
  },
  {
   "cell_type":"code",
   "source":[
    "# Load data to BigQuery\n",
    "\n",
    "# -30 days from yesterday. You can set any date interval for your particular case\n",
    "start_date = (datetime.now().date() - timedelta(days=30)).strftime('%Y-%m-%d')\n",
    "end_date = (datetime.now().date()).strftime('%Y-%m-%d')\n",
    "date_range = (start_date, end_date)\n",
    "\n",
    "# Run job and filter only specific dates\n",
    "df_to_load = limiter(date_range=date_range)\n",
    "\n",
    "# Remove \"whatsapp +\" from number and price to float64\n",
    "df_to_load['phone_from'] = df_to_load['phone_from'].str.extract('(\\d+)').replace(np.nan, 0).astype(int)\n",
    "df_to_load['phone_to'] = df_to_load['phone_to'].str.extract('(\\d+)').replace(np.nan, 0).astype(int)\n",
    "df_to_load['price'] = df_to_load['price'].replace(np.nan,0).astype(float).abs()"
   ],
   "execution_count":null,
   "outputs":[
    
   ],
   "metadata":{
    "datalore":{
     "node_id":"IM3M1ZO0OtlrYmSoS44DN1",
     "type":"CODE",
     "hide_input_from_viewers":true,
     "hide_output_from_viewers":true
    }
   }
  },
  {
   "cell_type":"code",
   "source":[
    "# Delete last 31 days in BigQuery. Not essential. We use replace when uploading data\n",
    "# pd.read_gbq('''DELETE FROM indrive-inlocal.supermasters.twilio\n",
    "# WHERE date_sent_format > DATE_SUB(CURRENT_DATE(), INTERVAL 31 DAY);''')\n",
    "import pandas_gbq\n",
    "\n",
    "# Set the amount of dates you are going to load later\n",
    "sql = '''\n",
    "DELETE FROM your_project.dataset.twilio\n",
    "WHERE date_sent_format > DATE_SUB(CURRENT_DATE(), INTERVAL 31 DAY);\n",
    "'''\n",
    "\n",
    "# Execute the query\n",
    "pandas_gbq.read_gbq(sql, project_id='your_project')"
   ],
   "execution_count":null,
   "outputs":[
    
   ],
   "metadata":{
    "datalore":{
     "node_id":"DTLV8bAuw4Niu1kXt3AKff",
     "type":"CODE",
     "hide_input_from_viewers":true,
     "hide_output_from_viewers":true
    }
   }
  },
  {
   "cell_type":"code",
   "source":[
    "# Load 30 days of fresh data from Twilio\n",
    "df_to_load.to_gbq(destination_table='twilio', project_id='your_project', if_exists='append')\n",
    "print(f'Loaded! At {datetime.now()}')"
   ],
   "execution_count":null,
   "outputs":[
    
   ],
   "metadata":{
    "datalore":{
     "node_id":"aUw1LLrQehGASGBV6T9eW8",
     "type":"CODE",
     "hide_input_from_viewers":true,
     "hide_output_from_viewers":true
    }
   }
  },
  {
   "cell_type":"code",
   "source":[
    "# PS. Check that process if finished successfully. Check loaded data first time around"
   ],
   "execution_count":null,
   "outputs":[
    
   ],
   "metadata":{
    "datalore":{
     "node_id":"DTf4sWqn7TG3GMu5yNzHa4",
     "type":"CODE",
     "hide_input_from_viewers":true,
     "hide_output_from_viewers":true
    }
   }
  }
 ],
 "metadata":{
  "kernelspec":{
   "display_name":"Python",
   "language":"python",
   "name":"python"
  },
  "datalore":{
   "computation_mode":"JUPYTER",
   "package_manager":"pip",
   "base_environment":"default",
   "packages":[
    
   ],
   "report_row_ids":[
    
   ],
   "version":3
  }
 },
 "nbformat":4,
 "nbformat_minor":4
}