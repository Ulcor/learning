{
 "cells":[
  {
   "cell_type":"code",
   "source":[
    " # Imports and tokens\n",
    "\n",
    "import os\n",
    "from airtable import Airtable\n",
    "import pandas as pd\n",
    "from datetime import datetime\n",
    "\n",
    "# Always hide tokens in a safe place\n",
    "os.environ['AIRTABLE_AUTH_TOKEN'] = ''\n",
    "\n",
    "airtable_token = os.environ['AIRTABLE_AUTH_TOKEN']\n",
    "\n",
    "# Log in to your Airtable account\n",
    "# Open your database\n",
    "# Search for base_id. It starts with app...\n",
    "# Search for table_name. It starts with tbl...\n",
    "base_id = 'app*****'\n",
    "table_name = 'tbl*****'"
   ],
   "execution_count":null,
   "outputs":[
    
   ],
   "metadata":{
    "datalore":{
     "node_id":"Cj6ymq5PBgCkqlUOlK2knV",
     "type":"CODE",
     "hide_input_from_viewers":false,
     "hide_output_from_viewers":false,
     "report_properties":{
      "rowId":"BtYPLOl02QyLSzSP6uYxyq"
     }
    }
   }
  },
  {
   "cell_type":"markdown",
   "source":[
    "## Load from Airtable"
   ],
   "attachments":{
    
   },
   "metadata":{
    "datalore":{
     "node_id":"K37RLNtMgiSBYqZhlww6qA",
     "type":"MD",
     "hide_input_from_viewers":false,
     "hide_output_from_viewers":false,
     "report_properties":{
      "rowId":"2qD2nKAgYKXTNYbjZVZwkP"
     }
    }
   }
  },
  {
   "cell_type":"code",
   "source":[
    "# Retrieve data from Airtable\n",
    "current_time = datetime.now().strftime('%H:%M')\n",
    "\n",
    "print(f'Loading table {table_name}. Start time: {current_time}')\n",
    "\n",
    "airtable = Airtable(base_id, table_name, airtable_token)\n",
    "airtable_data = airtable.get_all()\n",
    "# airtable_data"
   ],
   "execution_count":11,
   "outputs":[
    
   ],
   "metadata":{
    "datalore":{
     "node_id":"Cnqbj7dweqh6NLgRGWP9ic",
     "type":"CODE",
     "hide_input_from_viewers":false,
     "hide_output_from_viewers":false,
     "report_properties":{
      "rowId":"dxxbouDXYvPWYtMBuYXLb4"
     }
    }
   }
  },
  {
   "cell_type":"code",
   "source":[
    "print(f'Finishing loading {table_name}. Finish time: {current_time}')"
   ],
   "execution_count":12,
   "outputs":[
    
   ],
   "metadata":{
    "datalore":{
     "node_id":"Ymbhj1m21oxYYndy2Oc8Xt",
     "type":"CODE",
     "hide_input_from_viewers":false,
     "hide_output_from_viewers":false,
     "report_properties":{
      "rowId":"NIRPHtJUjJ8aqjslqAoReO"
     }
    }
   }
  },
  {
   "cell_type":"code",
   "source":[
    "import pandas as pd\n",
    "\n",
    "def airtable_to_dataframe(airtable_data, fields=None):\n",
    "    \"\"\"\n",
    "    Convert data from Airtable (list of records) to a Pandas DataFrame.\n",
    "\n",
    "    Parameters:\n",
    "    - airtable_data (list): List of records where each record is a dictionary with a 'fields' key.\n",
    "    - fields (list, optional): List of field names to include in the DataFrame. If None, include all fields.\n",
    "\n",
    "    Returns:\n",
    "    - pd.DataFrame: Pandas DataFrame containing the data.\n",
    "    \"\"\"\n",
    "    if not airtable_data:\n",
    "        return pd.DataFrame()\n",
    "\n",
    "    # Extract the 'fields' information from each record\n",
    "    fields_data = [record.get('fields', {}) for record in airtable_data]\n",
    "\n",
    "    # Convert the list of dictionaries to a DataFrame\n",
    "    dataframe = pd.DataFrame(fields_data)\n",
    "\n",
    "    # Filter the DataFrame based on the specified fields\n",
    "    if fields:\n",
    "        dataframe = dataframe[fields]\n",
    "\n",
    "    return dataframe"
   ],
   "execution_count":null,
   "outputs":[
    
   ],
   "metadata":{
    "datalore":{
     "node_id":"iOPvQ8ePnzlE8IMsCJ2DJI",
     "type":"CODE",
     "hide_input_from_viewers":false,
     "hide_output_from_viewers":false,
     "report_properties":{
      "rowId":"xadBjsNyDwltn7kNqzynQA"
     }
    }
   }
  },
  {
   "cell_type":"markdown",
   "source":[
    "### Column trimmer"
   ],
   "attachments":{
    
   },
   "metadata":{
    "datalore":{
     "node_id":"4sEyNOqd6CcivtKQbu6GfC",
     "type":"MD",
     "hide_input_from_viewers":false,
     "hide_output_from_viewers":false,
     "report_properties":{
      "rowId":"6HklgdY195KNbP4JLtSq7C"
     }
    }
   }
  },
  {
   "cell_type":"code",
   "source":[
    "# Create df from selected table, bd\n",
    "# Cols. Insert needed structure here\n",
    "columns = ['Id', 'nAmE', 'website', 'type 1', 'country']\n",
    "\n",
    "# Start\n",
    "df = airtable_to_dataframe(airtable_data, fields=columns)"
   ],
   "execution_count":null,
   "outputs":[
    
   ],
   "metadata":{
    "datalore":{
     "node_id":"XqpclPY53nnkAY87Kp5xJb",
     "type":"CODE",
     "hide_input_from_viewers":false,
     "hide_output_from_viewers":false,
     "report_properties":{
      "rowId":"223LuZoKfZULQE0q1HuGMf"
     }
    }
   }
  },
  {
   "cell_type":"code",
   "source":[
    "df"
   ],
   "execution_count":15,
   "outputs":[
    
   ],
   "metadata":{
    "datalore":{
     "node_id":"phXFPBnIAESHldsXPKT5F0",
     "type":"CODE",
     "hide_input_from_viewers":false,
     "hide_output_from_viewers":false,
     "report_properties":{
      "rowId":"GTQlkWlZa6Q5JWRxCYXLdl"
     }
    }
   }
  },
  {
   "cell_type":"code",
   "source":[
    "#  Column names are not optimal for SQL database. Normilize them\n",
    "def normalize_column_names(df):\n",
    "    if df.empty:\n",
    "        return df\n",
    "\n",
    "    df.columns = df.columns.str.lower().str.replace(' ', '_')\\\n",
    "        .str.replace('\/', '_')\\\n",
    "        .str.replace(',', '')\\\n",
    "        .str.replace('(', '')\\\n",
    "        .str.replace(')', '')\n",
    "    return df"
   ],
   "execution_count":null,
   "outputs":[
    
   ],
   "metadata":{
    "datalore":{
     "node_id":"BmleQdZbD4OjUweD20jPDa",
     "type":"CODE",
     "hide_input_from_viewers":false,
     "hide_output_from_viewers":false,
     "report_properties":{
      "rowId":"6BAchqKiXSUlv1Io6MPJA2"
     }
    }
   }
  },
  {
   "cell_type":"code",
   "source":[
    "df_normalized = normalize_column_names(df)\n",
    "df_normalized"
   ],
   "execution_count":17,
   "outputs":[
    
   ],
   "metadata":{
    "datalore":{
     "node_id":"M9KVy0QBxrTykYlyo1OT0P",
     "type":"CODE",
     "hide_input_from_viewers":false,
     "hide_output_from_viewers":false,
     "report_properties":{
      "rowId":"XPMia7BlqlMF9KCO5OcyIW"
     }
    }
   }
  },
  {
   "cell_type":"markdown",
   "source":[
    "## Create table, BigQuery"
   ],
   "attachments":{
    
   },
   "metadata":{
    "datalore":{
     "node_id":"pEelPtKMEce44ALNeFrBEm",
     "type":"MD",
     "hide_input_from_viewers":false,
     "hide_output_from_viewers":false,
     "report_properties":{
      "rowId":"lDYyjnIvvDIVsJ6SuR4MSZ"
     }
    }
   }
  },
  {
   "cell_type":"code",
   "source":[
    "def generate_create_table_statement(df, table_name='your_table_name'):\n",
    "    \"\"\"\n",
    "    Generate a BigQuery CREATE TABLE statement based on the columns and their types in a Pandas DataFrame.\n",
    "\n",
    "    Parameters:\n",
    "    - df (pd.DataFrame): Pandas DataFrame.\n",
    "    - table_name (str): Name of the BigQuery table.\n",
    "\n",
    "    Returns:\n",
    "    - str: BigQuery CREATE TABLE statement.\n",
    "\n",
    "    ! Does not provide clustering and partitioning !\n",
    "    \"\"\"\n",
    "    if df.empty:\n",
    "        raise ValueError(\"DataFrame is empty. Cannot generate CREATE TABLE statement.\")\n",
    "\n",
    "    columns = df.columns\n",
    "    types = [df[col].dtype.name.lower() for col in columns]\n",
    "\n",
    "    # Mapping Pandas types to BigQuery types\n",
    "    bigquery_types = {\n",
    "        'int64': 'INT64',\n",
    "        'float64': 'FLOAT64',\n",
    "        'object': 'STRING',\n",
    "        'bool': 'BOOL',\n",
    "        'datetime64[ns]': 'TIMESTAMP',\n",
    "        'timedelta64[ns]': 'TIMESTAMP',\n",
    "    }\n",
    "\n",
    "    # Generate the CREATE TABLE statement\n",
    "    create_table_statement = f\"CREATE OR REPLACE TABLE `{table_name}` (\\n\"\n",
    "\n",
    "    for col, col_type in zip(columns, types):\n",
    "        bq_type = bigquery_types.get(col_type, 'STRING')\n",
    "        create_table_statement += f\"  `{col}` {bq_type},\\n\"\n",
    "\n",
    "    create_table_statement = create_table_statement.rstrip(',\\n') + \"\\n)\"\n",
    "\n",
    "    return create_table_statement"
   ],
   "execution_count":null,
   "outputs":[
    
   ],
   "metadata":{
    "datalore":{
     "node_id":"jctnKQB0QmIF45Bo7g8xJN",
     "type":"CODE",
     "hide_input_from_viewers":false,
     "hide_output_from_viewers":false,
     "report_properties":{
      "rowId":"1l9Rmk0dLtEEsQ0NZpuR3n"
     }
    }
   }
  },
  {
   "cell_type":"code",
   "source":[
    "dataset = 'indrive-inlocal.new_ventures.'\n",
    "\n",
    "# insert name for a table\n",
    "desired_table_name = 'full_db'\n",
    "\n",
    "# Generate create table statement\n",
    "generate_create_table_statement = generate_create_table_statement(df_normalized, table_name=dataset + desired_table_name)"
   ],
   "execution_count":null,
   "outputs":[
    
   ],
   "metadata":{
    "datalore":{
     "node_id":"58nZyPvyE7s8yF7QJLrEEY",
     "type":"CODE",
     "hide_input_from_viewers":false,
     "hide_output_from_viewers":false,
     "report_properties":{
      "rowId":"HXbS7HCCDf66soR84Gj524"
     }
    }
   }
  },
  {
   "cell_type":"code",
   "source":[
    "print(generate_create_table_statement)"
   ],
   "execution_count":23,
   "outputs":[
    
   ],
   "metadata":{
    "datalore":{
     "node_id":"nSMf7SnNRocLBU9Ut0kOFF",
     "type":"CODE",
     "hide_input_from_viewers":false,
     "hide_output_from_viewers":false,
     "report_properties":{
      "rowId":"qcTc8s545bHXCs2vTNtbxU"
     }
    }
   }
  },
  {
   "cell_type":"markdown",
   "source":[
    "### ELT below is only for a small tables (<0,5 mln rows) with frequent column changes"
   ],
   "attachments":{
    
   },
   "metadata":{
    "datalore":{
     "node_id":"yjRqvCnZdMDB7TTEulGlFN",
     "type":"MD",
     "hide_input_from_viewers":false,
     "hide_output_from_viewers":false,
     "report_properties":{
      "rowId":"C96bTRFDFKB9gxB3qAv0mh"
     }
    }
   }
  },
  {
   "cell_type":"code",
   "source":[
    "# Create or replace a table\n",
    "pd.read_gbq(generate_create_table_statement)"
   ],
   "execution_count":30,
   "outputs":[
    
   ],
   "metadata":{
    "datalore":{
     "node_id":"ZAsQriB8952mcBrr3hRjos",
     "type":"CODE",
     "hide_input_from_viewers":false,
     "hide_output_from_viewers":false,
     "report_properties":{
      "rowId":"oU0mooHRoynkyqMNnM1qsw"
     }
    }
   }
  },
  {
   "cell_type":"code",
   "source":[
    "# Load new data into it\n",
    "df_normalized.to_gbq(destination_table='dataset.table', project_id='project', if_exists='replace')"
   ],
   "execution_count":31,
   "outputs":[
    
   ],
   "metadata":{
    "datalore":{
     "node_id":"OMs1lKqzbCvXuM8amgVvcG",
     "type":"CODE",
     "hide_input_from_viewers":false,
     "hide_output_from_viewers":false,
     "report_properties":{
      "rowId":"rF8bAVM1vQnWqig4BFDQ1Y"
     }
    }
   }
  }
 ],
 "metadata":{
  "kernelspec":{
   "display_name":"Python",
   "language":"python",
   "name":"python"
  },
  "datalore":{
   "computation_mode":"JUPYTER",
   "package_manager":"pip",
   "base_environment":"default",
   "packages":[
    
   ],
   "report_row_ids":[
    "BtYPLOl02QyLSzSP6uYxyq",
    "2qD2nKAgYKXTNYbjZVZwkP",
    "dxxbouDXYvPWYtMBuYXLb4",
    "NIRPHtJUjJ8aqjslqAoReO",
    "xadBjsNyDwltn7kNqzynQA",
    "6HklgdY195KNbP4JLtSq7C",
    "223LuZoKfZULQE0q1HuGMf",
    "GTQlkWlZa6Q5JWRxCYXLdl",
    "6BAchqKiXSUlv1Io6MPJA2",
    "XPMia7BlqlMF9KCO5OcyIW",
    "lDYyjnIvvDIVsJ6SuR4MSZ",
    "1l9Rmk0dLtEEsQ0NZpuR3n",
    "HXbS7HCCDf66soR84Gj524",
    "qcTc8s545bHXCs2vTNtbxU",
    "C96bTRFDFKB9gxB3qAv0mh",
    "URQbPVcBYhLEnHsTRmXxLB",
    "oU0mooHRoynkyqMNnM1qsw",
    "rF8bAVM1vQnWqig4BFDQ1Y",
    "GNeP0lURjjo8zgGAFlJPU4"
   ],
   "version":3
  }
 },
 "nbformat":4,
 "nbformat_minor":4
}