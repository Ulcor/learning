{
  "nbformat": 4,
  "nbformat_minor": 0,
  "metadata": {
    "colab": {
      "provenance": []
    },
    "kernelspec": {
      "name": "python3",
      "display_name": "Python 3"
    },
    "language_info": {
      "name": "python"
    }
  },
  "cells": [
    {
      "cell_type": "code",
      "execution_count": 1,
      "metadata": {
        "id": "oZ8KThoWENVM"
      },
      "outputs": [],
      "source": [
        "import pandas as pd\n",
        "from tqdm import tqdm\n",
        "import pandas_gbq"
      ]
    },
    {
      "cell_type": "code",
      "source": [
        "# Creating test df from .xlsx file\n",
        "df = pd.read_excel('categories.xlsx')"
      ],
      "metadata": {
        "id": "ljJ_QA75EbHQ"
      },
      "execution_count": 2,
      "outputs": []
    },
    {
      "cell_type": "code",
      "source": [
        "df.dtypes"
      ],
      "metadata": {
        "colab": {
          "base_uri": "https://localhost:8080/",
          "height": 272
        },
        "id": "qG0N3_xrI-DJ",
        "outputId": "025c8cb1-1743-4e45-91e6-8a8d2abdcb5d"
      },
      "execution_count": 3,
      "outputs": [
        {
          "output_type": "execute_result",
          "data": {
            "text/plain": [
              "category                     object\n",
              "amount                        int64\n",
              "leftoversale_date           float64\n",
              "leftover                    float64\n",
              "sale_date            datetime64[ns]\n",
              "id                            int64\n",
              "dtype: object"
            ],
            "text/html": [
              "<div>\n",
              "<style scoped>\n",
              "    .dataframe tbody tr th:only-of-type {\n",
              "        vertical-align: middle;\n",
              "    }\n",
              "\n",
              "    .dataframe tbody tr th {\n",
              "        vertical-align: top;\n",
              "    }\n",
              "\n",
              "    .dataframe thead th {\n",
              "        text-align: right;\n",
              "    }\n",
              "</style>\n",
              "<table border=\"1\" class=\"dataframe\">\n",
              "  <thead>\n",
              "    <tr style=\"text-align: right;\">\n",
              "      <th></th>\n",
              "      <th>0</th>\n",
              "    </tr>\n",
              "  </thead>\n",
              "  <tbody>\n",
              "    <tr>\n",
              "      <th>category</th>\n",
              "      <td>object</td>\n",
              "    </tr>\n",
              "    <tr>\n",
              "      <th>amount</th>\n",
              "      <td>int64</td>\n",
              "    </tr>\n",
              "    <tr>\n",
              "      <th>leftoversale_date</th>\n",
              "      <td>float64</td>\n",
              "    </tr>\n",
              "    <tr>\n",
              "      <th>leftover</th>\n",
              "      <td>float64</td>\n",
              "    </tr>\n",
              "    <tr>\n",
              "      <th>sale_date</th>\n",
              "      <td>datetime64[ns]</td>\n",
              "    </tr>\n",
              "    <tr>\n",
              "      <th>id</th>\n",
              "      <td>int64</td>\n",
              "    </tr>\n",
              "  </tbody>\n",
              "</table>\n",
              "</div><br><label><b>dtype:</b> object</label>"
            ]
          },
          "metadata": {},
          "execution_count": 3
        }
      ]
    },
    {
      "cell_type": "code",
      "source": [
        "df.shape"
      ],
      "metadata": {
        "colab": {
          "base_uri": "https://localhost:8080/"
        },
        "id": "16CiLrDbJXQw",
        "outputId": "d302c803-0454-4fc5-b34f-ddf4ccd6368d"
      },
      "execution_count": 7,
      "outputs": [
        {
          "output_type": "execute_result",
          "data": {
            "text/plain": [
              "(700, 6)"
            ]
          },
          "metadata": {},
          "execution_count": 7
        }
      ]
    },
    {
      "cell_type": "code",
      "source": [
        "# Make sure that the table is created"
      ],
      "metadata": {
        "id": "XgvTL-evJssP"
      },
      "execution_count": null,
      "outputs": []
    },
    {
      "cell_type": "code",
      "source": [
        "# Simple load, everything in one go\n",
        "df.to_gbq(destination_table='margin_effective_store', project_id='kaggle-bq-249420', if_exists='replace')"
      ],
      "metadata": {
        "id": "qVdeTKDFJjgp"
      },
      "execution_count": null,
      "outputs": []
    },
    {
      "cell_type": "code",
      "source": [
        "# batch load\n",
        "def load_dataframe_to_bigquery(df, table_name, project_id, chunksize=100000):\n",
        "    total_rows = len(df)\n",
        "    num_batches = (total_rows + chunksize - 1) // chunksize  # Ceiling division to get the total number of batches\n",
        "\n",
        "    # Loop over batches and load to BigQuery\n",
        "    for i in tqdm(range(num_batches), desc=\"Loading to BigQuery\", unit=\"batch\", leave=True):\n",
        "        start_idx = i * chunksize\n",
        "        end_idx = min((i + 1) * chunksize, total_rows)\n",
        "        batch_df = df.iloc[start_idx:end_idx]\n",
        "\n",
        "        # Load batch_df to BigQuery\n",
        "        pandas_gbq.to_gbq(batch_df, table_name, project_id=project_id, if_exists='append')\n",
        "\n",
        "# Example usage:\n",
        "# Replace 'df', 'table_name', and 'project_id' with your actual DataFrame, table name, and project ID\n",
        "# load_dataframe_to_bigquery(df, 'your_table_name', 'your_project_id')"
      ],
      "metadata": {
        "id": "0ZX-JVPGKk69"
      },
      "execution_count": null,
      "outputs": []
    }
  ]
}